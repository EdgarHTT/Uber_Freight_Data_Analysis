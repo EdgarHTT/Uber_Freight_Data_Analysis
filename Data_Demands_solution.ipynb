{
 "cells": [
  {
   "cell_type": "markdown",
   "metadata": {},
   "source": [
    "# K-means solution to Data Demands Business Case\n",
    "The first approach to the problem was erroneous. Selecting one location to then split into two to find the minima only resulted in optimizing for that one location, failing to find the real minima of two locations. My error was following logical intuition without robust mathematical proof and not considering existing altenative methods. \n",
    "\n",
    "In spirit of improving and learning i'll solve the aforementioned problem by exploring different aproaches."
   ]
  },
  {
   "cell_type": "markdown",
   "metadata": {},
   "source": [
    "## **Approach**\n",
    "1. **Defining the objective function**\n",
    "Given:\n",
    "* A set of coordinates $ C = \\{c_1, c_2, ..., c_n/} $\n",
    "* Each coordinate $c_i$ has a weight $w_i$\n",
    "* Two unknown points $P_1$ and $P_2$\n",
    "* Distance function $d(a,b)$ (geodesic distance)\n",
    "\n",
    "The goal is to find $P_1$ and $P_2$ that minimize:\n",
    "$$ /sum_{i = 1}^{m} w_i * d(c_i,P_j)  $$\n",
    "where each coordinate $c_i$ is assigned to the closest of $P_1$ or $P_2$.\n",
    "\n",
    "2. **Assign Each Coordinate to One of the Two Points**\n",
    "\n",
    "For each coordinate $c_i$, assign it to the closest point based on the weighted distance:\n",
    "\n",
    "Assign $c_i$ to $P_j$ where $j = /argmin_{k}w_i * d(c_i, P_k)$\n",
    "\n",
    "### **Possible Approaches**\n",
    "1. **K-means with Weighted Centroids**\n",
    "    * Initialize $P_1$ and $P_2$ randomly.\n",
    "    * Assign each coordinate to the nearest point.\n",
    "    * Update $P_1$ and $P_2$ using the weighted centroid:\n",
    "\n",
    "$$ P_j = \\frac{\\sum_{c_i \\epsilon S_j} w_i c_i}{\\sum_{c_i \\epsilon S_j} w_i} $$\n",
    "* \n",
    "    * iterate until convergence\n",
    "\n",
    "2. **Gradient-Based Optimization**\n",
    "    * Define a loss function as the sum of the weighted distances.\n",
    "    * Use an optimizer (e.g., gradient descent, genetic algorithms) to minimize it.\n",
    "\n",
    "3. **Integer Linear Programming (ILP)**\n",
    "    * Define binary variables for assigning each coordinate to $P_1$ or $P_2$\n",
    "    * Minimize total wighted distance under assignment constraints.\n",
    "\n",
    "4. **Genetic Algorithm (GA) / Simulated Annealing**\n",
    "    * Randomly generate candidate solutions.\n",
    "    * Evolve towards the best configuration while ensuring constraints.\n",
    "\n"
   ]
  },
  {
   "cell_type": "code",
   "execution_count": 1,
   "metadata": {},
   "outputs": [],
   "source": [
    "#Importing modules\n",
    "import matplotlib.pyplot as plt\n",
    "import pandas as pd\n",
    "import numpy as np\n",
    "from geopy import distance"
   ]
  },
  {
   "cell_type": "code",
   "execution_count": 16,
   "metadata": {},
   "outputs": [],
   "source": [
    "# Customer data import\n",
    "path = \"C:/Users/Mario/Desktop/Dev/Uber_Freight_HW/Uber Freight Engineering - Customer Demands Business Case.xlsx\"\n",
    "df = pd.read_excel(path)"
   ]
  },
  {
   "cell_type": "code",
   "execution_count": null,
   "metadata": {},
   "outputs": [
    {
     "ename": "SyntaxError",
     "evalue": "only single target (not tuple) can be annotated (2967803739.py, line 2)",
     "output_type": "error",
     "traceback": [
      "\u001b[1;36m  Cell \u001b[1;32mIn[6], line 2\u001b[1;36m\u001b[0m\n\u001b[1;33m    def k_means_cluster(k:int, points:(float, float)) -> clusters[k]:[(int,int),...], centroids[k]:[(float,float),...]\u001b[0m\n\u001b[1;37m                                                                     ^\u001b[0m\n\u001b[1;31mSyntaxError\u001b[0m\u001b[1;31m:\u001b[0m only single target (not tuple) can be annotated\n"
     ]
    }
   ],
   "source": [
    "#PseudoCode\n",
    "\"\"\"\n",
    "All coors are in (lattiude, longitude) order\n",
    "\n",
    "def k_means_cluster(k:int, points:(float, float)) -> clusters:list[(float, float),...], centroids:list[(float,float),...]\n",
    "def initialization_method(k:int, method:string) -> centroids:list[(float, float),...]\n",
    "def geodesic_distance(point:(float,float), centroid:(float, float)) -> distance:float\n",
    "def calculate_centroid(points:list[(float,float),...]) -> new_centroid:(float,float)\n",
    "\"\"\"\n",
    "\n",
    "\"\"\"\n",
    "def initialization_method(k:int, method:string, points:) -> centroids:list[(float, float),...]\n",
    "    # Setting range\n",
    "    x_range = (min([n[1] for n in points]), max([n[1] for n in points]))\n",
    "    y_range = (min([n[0] for n in points]), max([n[0] for n in points]))\n",
    "    \n",
    "    if method == \"Random\":\n",
    "        \n",
    "        return centroids\n",
    "\n",
    "def geodesic_distance(point:(float,float), centroid:(float, float)) -> distance:float\n",
    "def calculate_centroid(points:list[(float,float),...]) -> new_centroid:(float,float)\n",
    "\n",
    "def k_means_cluster(k:int, points:list[(float, float),...]) -> clusters:list[(float, float),...], centroids:list[(float,float),...]\n",
    "    # Initialization: choose k centroids by method\n",
    "    method = [\"Random\", \"Forgy\"]\n",
    "    centroids = initialization_method(k, method[0], points)\n",
    "\n",
    "    # Initialize cluster list\n",
    "    clusters = [[] for _ in range(k)]\n",
    "\n",
    "    # Loop until convergence\n",
    "    converged = False\n",
    "    while not converged:\n",
    "        # Clear previous clusters\n",
    "        clusters = [[] for _ in range(k)]\n",
    "\n",
    "        # Assign each point to the \"closest\" centroid\n",
    "        for point in points:\n",
    "            distances_to_each_centroid = [geodesic_distance(point, centroid) for centroid in centroids]\n",
    "            cluster_assigment = argmin(distances_to_each_centroid) # Selects the closest centroid \n",
    "            cluters[cluster_assignment].append(point)\n",
    "\n",
    "        # Calculate new centroids\n",
    "        #   (the standard implementation uses the mean of all points in a cluster to determine the new centroid)\n",
    "        new_centroids = [calculate_centroid(cluster) for cluster in clusters]\n",
    "\n",
    "        converged = (new_centroids = centroids)\n",
    "        centroids = new_centroids\n",
    "\n",
    "        if converged:\n",
    "            return clusters, centroids\n",
    "\"\"\""
   ]
  },
  {
   "cell_type": "code",
   "execution_count": 7,
   "metadata": {},
   "outputs": [],
   "source": [
    "#K-Means solution\n",
    "def k_means_cluster(k, points):\n",
    "    # Initialization: choose k centroids (Forgy, Random Partition, etc.)\n",
    "    centroids = [c1, c2, ..., ck]\n",
    "    \n",
    "    # Initialize clusters list\n",
    "    clusters = [[] for _ in range(k)]\n",
    "    \n",
    "    # Loop until convergence\n",
    "    converged = false\n",
    "    while not converged:\n",
    "        # Clear previous clusters\n",
    "        clusters = [[] for _ in range(k)]\n",
    "    \n",
    "        # Assign each point to the \"closest\" centroid \n",
    "        for point in points:\n",
    "            distances_to_each_centroid = [distance(point, centroid) for centroid in centroids]\n",
    "            cluster_assignment = argmin(distances_to_each_centroid)\n",
    "            clusters[cluster_assignment].append(point)\n",
    "        \n",
    "        # Calculate new centroids\n",
    "        #   (the standard implementation uses the mean of all points in a\n",
    "        #     cluster to determine the new centroid)\n",
    "        new_centroids = [calculate_centroid(cluster) for cluster in clusters]\n",
    "        \n",
    "        converged = (new_centroids == centroids)\n",
    "        centroids = new_centroids\n",
    "        \n",
    "        if converged:\n",
    "            return clusters"
   ]
  }
 ],
 "metadata": {
  "kernelspec": {
   "display_name": "Python 3 (ipykernel)",
   "language": "python",
   "name": "python3"
  },
  "language_info": {
   "codemirror_mode": {
    "name": "ipython",
    "version": 3
   },
   "file_extension": ".py",
   "mimetype": "text/x-python",
   "name": "python",
   "nbconvert_exporter": "python",
   "pygments_lexer": "ipython3",
   "version": "3.13.0"
  }
 },
 "nbformat": 4,
 "nbformat_minor": 2
}
